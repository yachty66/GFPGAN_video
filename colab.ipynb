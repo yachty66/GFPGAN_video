{
 "cells": [
  {
   "cell_type": "code",
   "execution_count": null,
   "metadata": {},
   "outputs": [],
   "source": [
    "!git clone https://github.com/yachty66/GFPGAN_video.git\n",
    "%cd GFPGAN_video"
   ]
  },
  {
   "cell_type": "code",
   "execution_count": null,
   "metadata": {},
   "outputs": [],
   "source": [
    "#make sure you are in root of GFPGAN_video\n",
    "%ls"
   ]
  },
  {
   "cell_type": "code",
   "execution_count": null,
   "metadata": {},
   "outputs": [],
   "source": [
    "!pip install opencv-python\n",
    "# Install basicsr - https://github.com/xinntao/BasicSR\n",
    "# We use BasicSR for both training and inference\n",
    "!pip install basicsr\n",
    "\n",
    "# Install facexlib - https://github.com/xinntao/facexlib\n",
    "# We use face detection and face restoration helper in the facexlib package\n",
    "!pip install facexlib\n",
    "\n",
    "!pip install -r requirements.txt\n",
    "!python setup.py develop\n",
    "\n",
    "# If you want to enhance the background (non-face) regions with Real-ESRGAN,\n",
    "# you also need to install the realesrgan package\n",
    "!pip install realesrgan\n",
    "\n",
    "!pip install moviepy"
   ]
  },
  {
   "cell_type": "code",
   "execution_count": null,
   "metadata": {},
   "outputs": [],
   "source": [
    "# Download the pre-trained model for GFPGAN\n",
    "!wget https://github.com/TencentARC/GFPGAN/releases/download/v1.3.0/GFPGANv1.4.pth -P experiments/pretrained_models"
   ]
  },
  {
   "cell_type": "code",
   "execution_count": null,
   "metadata": {},
   "outputs": [],
   "source": [
    "#before running this command make sure you put the video you wanna enhance into inputs/video.mp4\n",
    "!python video.py"
   ]
  }
 ],
 "metadata": {
  "kernelspec": {
   "display_name": "base",
   "language": "python",
   "name": "python3"
  },
  "language_info": {
   "name": "python",
   "version": "3.11.9"
  }
 },
 "nbformat": 4,
 "nbformat_minor": 2
}
